{
  "nbformat": 4,
  "nbformat_minor": 0,
  "metadata": {
    "colab": {
      "provenance": [],
      "collapsed_sections": []
    },
    "kernelspec": {
      "name": "python3",
      "display_name": "Python 3"
    },
    "language_info": {
      "name": "python"
    }
  },
  "cells": [
    {
      "cell_type": "code",
      "execution_count": 7,
      "metadata": {
        "colab": {
          "base_uri": "https://localhost:8080/"
        },
        "id": "LNFVejJlnjhb",
        "outputId": "c329bddc-20fd-4130-c189-c65be2bdd09b"
      },
      "outputs": [
        {
          "output_type": "stream",
          "name": "stdout",
          "text": [
            "codigo:  200\n"
          ]
        }
      ],
      "source": [
        "import requests\n",
        "import pandas as pd\n",
        "from bs4 import BeautifulSoup\n",
        "\n",
        "if __name__ == '__main__':\n",
        "    pagina = requests.get(\"https://www.mercadolibre.com.ar/mas-vendidos#menu=categories\")\n",
        "    print(\"codigo: \",pagina.status_code)\n",
        "\n",
        "    objeto_sopa = BeautifulSoup(pagina.content, 'html.parser')\n",
        "    listaDeObjetos = list(objeto_sopa.children)\n",
        "\n",
        "    div_contenedor = objeto_sopa.find('div', class_='default hub')\n",
        "\n",
        "    divs = div_contenedor.find_all('div')\n",
        "\n",
        "\n",
        "    categoriaData = []\n",
        "    productoNumVendido = []\n",
        "    productoPrecio = []\n",
        "    productoDesc = []\n",
        "\n",
        "    for producto in divs:\n",
        "      producto_cards = producto.find_all('div', class_=\"slick-slide\")\n",
        "      for card in producto_cards:\n",
        "         categoria = producto.find('h2', class_=\"dynamic__carousel-title\")\n",
        "         precio = card.find(\"span\", class_=\"dynamic-carousel__price\")\n",
        "         desc = card.find(\"h3\", class_=\"dynamic-carousel__title\")\n",
        "         vendido = card.find(\"span\", class_=\"dynamic-carousel__pill-container--text dynamic-carousel__pill-container--text-best-seller\")\n",
        "         if precio != None and categoria != None and desc != None and vendido != None:\n",
        "           categoriaData.append(categoria.get_text())\n",
        "           productoPrecio.append(precio.get_text())\n",
        "           productoDesc.append(desc.get_text())\n",
        "           productoNumVendido.append(vendido.get_text())\n",
        "      \n",
        "    \n",
        "  \n",
        "    "
      ]
    },
    {
      "cell_type": "code",
      "source": [
        "data = {\"Categoria\" : [], \"Descripcion\": [], \"Numero_vendido\": [], \"Precio\":[]}\n",
        "\n",
        "print(len(categoriaData) )\n",
        "print(len(productoPrecio))\n",
        "print(len(productoDesc))\n",
        "print(len(productoNumVendido))  \n",
        "data[\"Categoria\"] = categoriaData\n",
        "data[\"Descripcion\"] = productoDesc\n",
        "data[\"Precio\"] = productoPrecio\n",
        "data[\"Numero_vendido\"] = productoNumVendido\n",
        "\n",
        "dataframe = pd.DataFrame(data)\n",
        "\n",
        "print(dataframe.iloc[3])"
      ],
      "metadata": {
        "colab": {
          "base_uri": "https://localhost:8080/"
        },
        "id": "xt6w7Mr44hHF",
        "outputId": "a0a8cabe-8eb0-453a-dd48-b1b263dfa53e"
      },
      "execution_count": 11,
      "outputs": [
        {
          "output_type": "stream",
          "name": "stdout",
          "text": [
            "60\n",
            "60\n",
            "60\n",
            "60\n",
            "Categoria                                 Celulares y Teléfonos\n",
            "Descripcion       Auriculares in-ear inalámbricos QCY T1C negro\n",
            "Numero_vendido                                   4º MÁS VENDIDO\n",
            "Precio                                                $ 2.94308\n",
            "Name: 3, dtype: object\n"
          ]
        }
      ]
    }
  ]
}