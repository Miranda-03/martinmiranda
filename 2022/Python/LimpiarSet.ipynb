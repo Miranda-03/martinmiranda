{
  "nbformat": 4,
  "nbformat_minor": 0,
  "metadata": {
    "colab": {
      "name": "Untitled5.ipynb",
      "provenance": [],
      "collapsed_sections": []
    },
    "kernelspec": {
      "name": "python3",
      "display_name": "Python 3"
    },
    "language_info": {
      "name": "python"
    }
  },
  "cells": [
    {
      "cell_type": "code",
      "execution_count": 46,
      "metadata": {
        "id": "r364ugN7yPUj",
        "colab": {
          "base_uri": "https://localhost:8080/"
        },
        "outputId": "21526a2f-6322-4295-fdfb-ac7847e32d0a"
      },
      "outputs": [
        {
          "output_type": "stream",
          "name": "stdout",
          "text": [
            "   Edad  Altura  Peso   Promedio  Sexo      LU     Observación \n",
            "0    25    1.80    83       7.79     h  125/89          ninguna\n",
            "1    21    1.89    86       9.70     h   35/88          ninguna\n",
            "2    39    1.54    50       7.10     m  142/80     hipertension\n",
            "3    49    1.66    70       6.54     m  553/83          ninguna\n",
            "4    31    1.70    81       7.21     h  495/83     hipertension\n",
            "5    33    1.74    93       7.10     h   25/78          ninguna\n",
            "6    29    1.81  82.5       6.90     h  445/81          ninguna\n",
            "7    19    1.82  86.3       8.43     h    5/84          ninguna\n",
            "8    20    1.76    75      10.00     m    1/81            gripe\n",
            "10   32    1.64    60       9.10     m  400/80          ninguna\n",
            "11   59    1.70    67       8.99     m  100/89          ninguna\n",
            "12   34    1.81    97       7.46     h    1/89          ninguna\n",
            "13   49    1.78   432       7.41     h  500/86  dolor de cabeza\n",
            "14   51    1.77    75       9.10     h   25/85     hipertension\n",
            "16   40    1.69    70       6.00     m   35/89          ninguna\n",
            "17   41    1.80     8       9.20     h  099/89          ninguna\n",
            "19   28    1.68    68       7.54     m  145/81          ninguna\n"
          ]
        }
      ],
      "source": [
        "import pandas as pd \n",
        "import matplotlib.pyplot as plt1 \n",
        "import numpy as np\n",
        "\n",
        "df1 = pd.read_csv(\"./sample_data/datosArreglar.csv\")\n",
        "df1 = df1.dropna(thresh=1)\n",
        "df2 = df1\n",
        "\n",
        "def convertirEnMinusculas(valor):\n",
        "  if type(valor) == str:\n",
        "    return valor.lower()\n",
        "  else:\n",
        "    return valor\n",
        "\n",
        "def sacarEspacios (valor):\n",
        "  valor = str(valor)\n",
        "  for caracter in valor:\n",
        "    if caracter.isspace():\n",
        "      valor = valor.replace(caracter,'')\n",
        "  return valor\n",
        "\n",
        "def sacarNan (valor):\n",
        "  valor = str(valor)\n",
        "  if(valor == \"nan\"):\n",
        "    valor = np.nan\n",
        "    return None\n",
        "  return valor\n",
        "\n",
        "def limpiarObservacion (valor):\n",
        "  valor = str(valor)\n",
        "  valoresPosibles = [\"hipertension\",\"ninguna\",\"dolorcabeza\",\"hipertenso\", \"gripe\"]\n",
        "  if valor not in valoresPosibles: valor = \"ninguna\"\n",
        "  elif valor == \"hipertenso\":\n",
        "    valor = \"hipertension\"\n",
        "  elif valor == \"dolorcabeza\":\n",
        "    valor = \"dolor de cabeza\"\n",
        "  return valor\n",
        "\n",
        "def sacarLetras(valor):\n",
        "  valor = str(valor)\n",
        "  for caracter in valor:\n",
        "    if not caracter.isnumeric() and caracter != \".\":\n",
        "      valor = valor.replace(caracter,'')\n",
        "  return valor\n",
        "\n",
        "def primeraLetra (valor):\n",
        "  valor = str(valor)\n",
        "  if len(valor) > 1:\n",
        "    valor = valor[0]\n",
        "  return valor\n",
        "\n",
        "def arreglarValor(valor):\n",
        "    valor = str(valor)  \n",
        "    for caracter in valor:   \n",
        "      if not caracter.isnumeric():  \n",
        "        valor = valor.replace(caracter,'') \n",
        "\n",
        "    valor = valor[:len(valor)-2] + '/' + valor[len(valor)-2:]\n",
        "    return valor\n",
        "\n",
        "df2 = df2.applymap(convertirEnMinusculas)\n",
        "df2 = df2.applymap(sacarEspacios)\n",
        "df2 = df2.applymap(sacarNan)\n",
        "df2 = df2.dropna()\n",
        "df2[' Peso'] = df2[' Peso'].apply(sacarLetras)\n",
        "df2[' Altura'] = df2[' Altura'].apply(sacarLetras)\n",
        "df2[' Sexo'] = df2[' Sexo'].apply(primeraLetra)\n",
        "df2[' LU'] = df2[' LU'].apply(arreglarValor)\n",
        "df2[' Observación '] = df2[' Observación '].apply(limpiarObservacion)\n",
        "df2[' Promedio'] = df1[' Promedio'].apply(float)\n",
        "print(df2)\n",
        "\n",
        "\n",
        "\n"
      ]
    },
    {
      "cell_type": "code",
      "source": [
        ""
      ],
      "metadata": {
        "id": "gka2ZVPjdWRX"
      },
      "execution_count": null,
      "outputs": []
    }
  ]
}