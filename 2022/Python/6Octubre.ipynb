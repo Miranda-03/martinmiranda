{
 "cells": [
  {
   "cell_type": "code",
   "execution_count": 37,
   "metadata": {},
   "outputs": [],
   "source": [
    "import pandas as pd\n",
    "import numpy as np\n",
    "import re\n",
    "import matplotlib.pyplot as plt\n",
    "\n",
    "\n",
    "cultural = pd.read_csv(\"actividades-culturales-2021.csv\", sep=';')\n",
    "nombres = pd.read_csv(\"nombres-2010-2014.csv\")\n",
    "cultural = cultural.dropna()\n",
    "nombres = nombres.dropna()"
   ]
  },
  {
   "cell_type": "code",
   "execution_count": 58,
   "metadata": {},
   "outputs": [
    {
     "name": "stdout",
     "output_type": "stream",
     "text": [
      "708\n",
      "2212\n"
     ]
    }
   ],
   "source": [
    "#Parte 1\n",
    "#Punto 1\n",
    "\n",
    "cont_vir  = 0\n",
    "cont_pre = 0\n",
    "\n",
    "def ver_mod(valor):\n",
    "  global cont_vir\n",
    "  global cont_pre\n",
    "  valor = str(valor)  \n",
    "  if valor == \"Virtual\":\n",
    "    cont_vir =  cont_vir + 1\n",
    "  else:\n",
    "    cont_pre = cont_pre + 1\n",
    "  return valor\n",
    "\n",
    "\n",
    "cultural['Modalidad']= cultural['Modalidad'].apply(ver_mod)\n",
    "\n",
    "print(cont_vir)\n",
    "print(cont_pre)"
   ]
  },
  {
   "cell_type": "code",
   "execution_count": 59,
   "metadata": {},
   "outputs": [
    {
     "name": "stdout",
     "output_type": "stream",
     "text": [
      "131\n",
      "2369\n"
     ]
    }
   ],
   "source": [
    "#Punto 2\n",
    "\n",
    "cont_suspende_si  = 0\n",
    "cont_suspende_no = 0\n",
    "\n",
    "\n",
    "def se_suspende(valor):\n",
    "  global cont_suspende_si\n",
    "  global cont_suspende_no\n",
    "  valor = str(valor)  \n",
    "  if valor == \"Si\":\n",
    "    cont_suspende_si += 1\n",
    "  elif valor == \"No\":\n",
    "    cont_suspende_no += 1\n",
    "  return valor\n",
    "\n",
    "cultural['se_suspende_por_lluvia']= cultural['se_suspende_por_lluvia'].apply(se_suspende)\n",
    "\n",
    "print(cont_suspende_si)\n",
    "print(cont_suspende_no)"
   ]
  },
  {
   "cell_type": "code",
   "execution_count": 91,
   "metadata": {},
   "outputs": [
    {
     "name": "stdout",
     "output_type": "stream",
     "text": [
      "10\n"
     ]
    }
   ],
   "source": [
    "#Punto 3\n",
    "\n",
    "cont_mes = 0\n",
    "\n",
    "for a,b in zip(cultural.fecha_inicio, cultural.fecha_fin):\n",
    "    x = re.findall(\"\\d+\", str(a) )  \n",
    "    y = re.findall(\"\\d+\", str(b) )  \n",
    "    if int(x[1]) <= 5 and int(y[1]) >= 5:\n",
    "        cont_mes += 1\n",
    "    \n",
    "print(cont_mes)\n",
    "        "
   ]
  },
  {
   "cell_type": "code",
   "execution_count": 92,
   "metadata": {},
   "outputs": [
    {
     "name": "stdout",
     "output_type": "stream",
     "text": [
      "0\n"
     ]
    }
   ],
   "source": [
    "#Punto 4\n",
    "\n",
    "cont_mes_sep = 0\n",
    "\n",
    "for a, b, c in zip(cultural.fecha_inicio, cultural.fecha_fin, cultural.se_suspende_por_lluvia):\n",
    "    x = re.findall(\"\\d+\", str(a) )  \n",
    "    y = re.findall(\"\\d+\", str(b) )  \n",
    "    if int(x[1]) <= 9 and int(y[1]) >= 9 and c == \"Si\":\n",
    "        cont_mes_sep += 1\n",
    "    \n",
    "print(cont_mes_sep)"
   ]
  },
  {
   "cell_type": "code",
   "execution_count": 97,
   "metadata": {},
   "outputs": [
    {
     "name": "stdout",
     "output_type": "stream",
     "text": [
      "['Cine al aire libre', 'Cine al aire libre', 'Cine al aire libre', 'Cine al aire libre', 'Cine al aire libre', 'Cine al aire libre', 'MiniMuseos - Taller \"MI afiche de película\" - Museo del Cine', 'Artistas a cielo abierto - Temática Cine:  Taller para crear una obra de arte en movimiento inspirada en el cine', 'MiniMuseos - Taller \"MI afiche de película\" - Museo del Cine', 'MiniMuseos - Taller \"MI afiche de película\" - Museo del Cine', 'Artistas a cielo abierto - Temática Cine: Taller para crear una obra de arte en movimiento inspirada en el cine.', 'Cine y patrimonio en el Abasto']\n"
     ]
    }
   ],
   "source": [
    "#Punto 5\n",
    "\n",
    "cont_cine = []\n",
    "\n",
    "for a in cultural.actividad:\n",
    "    x = re.findall(r'\\bCine\\b', a)\n",
    "    y = re.findall(r'\\bcine\\b', a)  \n",
    "    if x or y:\n",
    "        cont_cine.append(a)\n",
    "    \n",
    "print(cont_cine)"
   ]
  },
  {
   "cell_type": "code",
   "execution_count": 95,
   "metadata": {},
   "outputs": [
    {
     "name": "stdout",
     "output_type": "stream",
     "text": [
      "39\n"
     ]
    }
   ],
   "source": [
    "#Punto 6\n",
    "\n",
    "cont_3 = 0\n",
    "\n",
    "for a, b in zip(cultural.fecha_inicio, cultural.fecha_fin):\n",
    "    x = re.findall(\"\\d+\", str(a) )  \n",
    "    y = re.findall(\"\\d+\", str(b) )\n",
    "    dias = int(y[2]) - int(x[2])\n",
    "    if dias > 3:\n",
    "        cont_3 += 1\n",
    "    \n",
    "print(cont_3)"
   ]
  },
  {
   "cell_type": "code",
   "execution_count": 49,
   "metadata": {},
   "outputs": [
    {
     "data": {
      "image/png": "[encoded data removed]",
      "text/plain": [
       "<Figure size 2300x480 with 1 Axes>"
      ]
     },
     "metadata": {},
     "output_type": "display_data"
    },
    {
     "name": "stdout",
     "output_type": "stream",
     "text": [
      "{'SAN NICOLAS': 131, 'MONSERRAT': 6, 'RECOLETA': 89, 'VILLA URQUIZA': 18, 'SAN TELMO': 10, 'VILLA CRESPO': 5, 'ALMAGRO': 25, 'VILLA DEVOTO': 5, 'CABALLITO': 3, 'BALVANERA': 58, 'RETIRO': 8, 'BOCA': 87, 'PALERMO': 8, 'BELGRANO': 9, 'FLORESTA': 2, 'BARRACAS': 2, 'MATADEROS': 23, 'AGRONOMIA': 2}\n"
     ]
    }
   ],
   "source": [
    "#Punto 7\n",
    "\n",
    "barrios_total = cultural[\"barrio\"].tolist()\n",
    "\n",
    "barrios_dict = {}\n",
    "\n",
    "for i in barrios_total:\n",
    "    barrios_dict[i] = 1\n",
    "\n",
    "for i in barrios_total:\n",
    "    barrios_dict[i] += 1\n",
    "\n",
    "\n",
    "f = plt.figure()\n",
    "f.set_figwidth(23)\n",
    "\n",
    "plt.bar(list(barrios_dict.keys()), list(barrios_dict.values()))\n",
    "\n",
    "plt.show()\n",
    "print(barrios_dict)\n"
   ]
  },
  {
   "cell_type": "code",
   "execution_count": 106,
   "metadata": {},
   "outputs": [
    {
     "name": "stdout",
     "output_type": "stream",
     "text": [
      "6\n"
     ]
    }
   ],
   "source": [
    "#Punto 8\n",
    "\n",
    "cont_cine = 0\n",
    "\n",
    "for a, b in zip(cultural.actividad, cultural.barrio):\n",
    "    x = re.findall(r'\\bMúsica\\b', a)\n",
    "    y = re.findall(r'\\bmúsica\\b', a)  \n",
    "    if x or y and b == 'VILLA URQUIZA':\n",
    "        cont_cine += 1\n",
    "    \n",
    "print(cont_cine)"
   ]
  },
  {
   "cell_type": "code",
   "execution_count": 3,
   "metadata": {},
   "outputs": [
    {
     "name": "stdout",
     "output_type": "stream",
     "text": [
      "1.372093023255814\n"
     ]
    }
   ],
   "source": [
    "#Punto 9\n",
    "\n",
    "cont_dias = 0\n",
    "cont_dias_p = 0\n",
    "\n",
    "for a,b in zip(cultural.fecha_inicio, cultural.fecha_fin):\n",
    "    x = re.findall(\"\\d+\", str(a) )  \n",
    "    y = re.findall(\"\\d+\", str(b) )  \n",
    "    cont_dias += int(y[2]) - int(x[2]) \n",
    "    cont_dias_p += 1\n",
    "    \n",
    "print(cont_dias/cont_dias_p)"
   ]
  },
  {
   "cell_type": "code",
   "execution_count": 9,
   "metadata": {},
   "outputs": [
    {
     "name": "stdout",
     "output_type": "stream",
     "text": [
      "203486\n"
     ]
    }
   ],
   "source": [
    "#Parte 2\n",
    "#Punto 1\n",
    "\n",
    "dups_color = nombres.pivot_table(columns=['anio'], aggfunc='size')\n",
    "print(dups_color.iloc[2])"
   ]
  },
  {
   "cell_type": "code",
   "execution_count": 18,
   "metadata": {},
   "outputs": [
    {
     "name": "stdout",
     "output_type": "stream",
     "text": [
      "10962\n"
     ]
    }
   ],
   "source": [
    "#Punto 2\n",
    "\n",
    "cont_n = 0\n",
    "\n",
    "nombres_2012 = nombres\n",
    "\n",
    "condicion = (nombres.anio == 2012)\n",
    "\n",
    "nombres_2012 = nombres_2012[condicion]\n",
    "\n",
    "for n in nombres_2012.nombre:\n",
    "    x= re.findall(\"^S\", str(n) ) \n",
    "    if x:\n",
    "        cont_n += 1\n",
    "\n",
    "print(cont_n)"
   ]
  },
  {
   "cell_type": "code",
   "execution_count": 19,
   "metadata": {},
   "outputs": [
    {
     "name": "stdout",
     "output_type": "stream",
     "text": [
      "204831\n"
     ]
    }
   ],
   "source": [
    "#Punto 3\n",
    "\n",
    "nombres_vocal_cont = 0\n",
    "\n",
    "for n in nombres.nombre:\n",
    "    x = re.findall(\"^[AEIOU]\", str(n))\n",
    "    if x:\n",
    "        nombres_vocal_cont += 1\n",
    "\n",
    "print(nombres_vocal_cont)"
   ]
  },
  {
   "cell_type": "code",
   "execution_count": 22,
   "metadata": {},
   "outputs": [
    {
     "name": "stdout",
     "output_type": "stream",
     "text": [
      "154671\n"
     ]
    }
   ],
   "source": [
    "#Punto 4\n",
    "\n",
    "nombres_años = nombres\n",
    "\n",
    "nombres_años_cont = 0\n",
    "\n",
    "condicion = (nombres.anio == 2012) | (nombres.anio == 2011) | (nombres.anio == 2010) | (nombres.anio == 2013)\n",
    "\n",
    "nombres_años = nombres_años[condicion]\n",
    "\n",
    "for n in nombres_años.nombre:\n",
    "    x = re.findall(\"^[AEIOU]\", str(n))\n",
    "    if x:\n",
    "        nombres_años_cont += 1\n",
    "\n",
    "print(nombres_años_cont)"
   ]
  },
  {
   "cell_type": "code",
   "execution_count": 2,
   "metadata": {},
   "outputs": [
    {
     "name": "stdout",
     "output_type": "stream",
     "text": [
      "óskar\n"
     ]
    }
   ],
   "source": [
    "#Punto 5\n",
    "\n",
    "dict = {}\n",
    "\n",
    "for n in nombres.nombre:\n",
    "    dict[n] = 0\n",
    "\n",
    "for n, c in zip(nombres.nombre, nombres.cantidad):\n",
    "    dict[n] += c\n",
    "\n",
    "\n",
    "print(max(dict))"
   ]
  },
  {
   "cell_type": "code",
   "execution_count": 3,
   "metadata": {},
   "outputs": [
    {
     "name": "stdout",
     "output_type": "stream",
     "text": [
      "íker Jesús\n"
     ]
    }
   ],
   "source": [
    "#Punto 6\n",
    "\n",
    "nombre_max_año = nombres\n",
    "\n",
    "condicion = (nombres.anio == 2014)\n",
    "\n",
    "nombre_max_año = nombre_max_año[condicion]\n",
    "\n",
    "print(nombre_max_año.max().nombre)"
   ]
  },
  {
   "cell_type": "code",
   "execution_count": 4,
   "metadata": {},
   "outputs": [
    {
     "name": "stdout",
     "output_type": "stream",
     "text": [
      "      Mia\n"
     ]
    }
   ],
   "source": [
    "#Punto 7\n",
    "\n",
    "nombre_min_año = nombres\n",
    "\n",
    "condicion = (nombres.anio == 2010)\n",
    "\n",
    "nombre_min_año = nombre_min_año[condicion]\n",
    "\n",
    "print(nombre_min_año.min().nombre)"
   ]
  },
  {
   "cell_type": "code",
   "execution_count": 7,
   "metadata": {},
   "outputs": [
    {
     "name": "stdout",
     "output_type": "stream",
     "text": [
      "AARON ESTEBAN\n"
     ]
    }
   ],
   "source": [
    "#Punto 8\n",
    "\n",
    "nombre_min_año_a = nombres\n",
    "\n",
    "condicion = (nombres.anio == 2011)\n",
    "\n",
    "nombre_min_año_a = nombre_min_año_a[condicion]\n",
    "\n",
    "def na_rows(value):\n",
    "    x = re.findall(\"^A\", str(value))\n",
    "    if not x:\n",
    "        return np.nan\n",
    "    return value\n",
    "\n",
    "nombre_min_año_a = nombre_min_año_a[\"nombre\"].apply(na_rows)\n",
    "\n",
    "nombre_min_año_a = nombre_min_año_a.dropna()\n",
    "\n",
    "print(nombre_min_año_a.min())\n",
    "    "
   ]
  },
  {
   "cell_type": "code",
   "execution_count": 16,
   "metadata": {},
   "outputs": [
    {
     "name": "stdout",
     "output_type": "stream",
     "text": [
      "174298.8\n"
     ]
    }
   ],
   "source": [
    "#Punto 9\n",
    "\n",
    "print(dups_color.sum()/len(dups_color))"
   ]
  },
  {
   "cell_type": "code",
   "execution_count": 32,
   "metadata": {},
   "outputs": [
    {
     "name": "stdout",
     "output_type": "stream",
     "text": [
      "4.044755555555556\n",
      "3.770963987574415\n",
      "4.672262465231023\n",
      "4.401760649484032\n",
      "4.214430889448942\n"
     ]
    }
   ],
   "source": [
    "#Punto 10\n",
    "\n",
    "for a, v in zip(dups_color.groupby('anio'), dups_color):\n",
    "    condicion = (nombres.anio == a[0])\n",
    "    nombres_año_p = nombres[condicion]\n",
    "    print(nombres_año_p['cantidad'].sum()/v)\n",
    "\n"
   ]
  },
  {
   "cell_type": "code",
   "execution_count": 33,
   "metadata": {},
   "outputs": [
    {
     "name": "stdout",
     "output_type": "stream",
     "text": [
      "3728447\n"
     ]
    }
   ],
   "source": [
    "#Punto 11\n",
    "print(nombres['cantidad'].sum())"
   ]
  },
  {
   "cell_type": "code",
   "execution_count": 35,
   "metadata": {},
   "outputs": [
    {
     "name": "stdout",
     "output_type": "stream",
     "text": [
      "204831\n"
     ]
    }
   ],
   "source": [
    "#Punto 12\n",
    "\n",
    "nombre_vocal_total = 0\n",
    "\n",
    "for n in nombres.nombre:\n",
    "    a = re.findall(\"^[A]\", str(n))\n",
    "    e = re.findall(\"^[E]\", str(n))\n",
    "    i = re.findall(\"^[I]\", str(n))\n",
    "    o = re.findall(\"^[O]\", str(n))\n",
    "    u = re.findall(\"^[U]\", str(n))\n",
    "    if a or e or i or o or u:\n",
    "        nombre_vocal_total += 1\n",
    "\n",
    "print(nombre_vocal_total)"
   ]
  }
 ],
 "metadata": {
  "kernelspec": {
   "display_name": "Python 3.10.8 64-bit",
   "language": "python",
   "name": "python3"
  },
  "language_info": {
   "codemirror_mode": {
    "name": "ipython",
    "version": 3
   },
   "file_extension": ".py",
   "mimetype": "text/x-python",
   "name": "python",
   "nbconvert_exporter": "python",
   "pygments_lexer": "ipython3",
   "version": "3.10.8"
  },
  "orig_nbformat": 4,
  "vscode": {
   "interpreter": {
    "hash": "e7370f93d1d0cde622a1f8e1c04877d8463912d04d973331ad4851f04de6915a"
   }
  }
 },
 "nbformat": 4,
 "nbformat_minor": 2
}
