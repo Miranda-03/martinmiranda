{
  "nbformat": 4,
  "nbformat_minor": 0,
  "metadata": {
    "colab": {
      "provenance": [],
      "collapsed_sections": []
    },
    "kernelspec": {
      "name": "python3",
      "display_name": "Python 3"
    },
    "language_info": {
      "name": "python"
    }
  },
  "cells": [
    {
      "cell_type": "code",
      "source": [
        "import pandas as pd\n",
        "import numpy as np\n",
        "\n",
        "barrios = pd.read_csv(\"sample_data/barrios.csv\")\n",
        "casos = pd.read_csv(\"sample_data/casos.csv\")\n",
        "comunas = pd.read_csv(\"sample_data/comunas.csv\")\n",
        "\n"
      ],
      "metadata": {
        "id": "PhOK6vwOlskY"
      },
      "execution_count": 1,
      "outputs": []
    },
    {
      "cell_type": "code",
      "execution_count": 2,
      "metadata": {
        "colab": {
          "base_uri": "https://localhost:8080/"
        },
        "id": "WkN-nqOOP5Pu",
        "outputId": "dc3ce25d-4449-4db7-d61b-166373d4c66b"
      },
      "outputs": [
        {
          "output_type": "stream",
          "name": "stdout",
          "text": [
            "            area    perimetro         barrio\n",
            "12  2.043711e+06  5987.226479  SAN CRISTOBAL\n",
            "24  4.342280e+06  8375.821811      BALVANERA\n"
          ]
        }
      ],
      "source": [
        "#Punto 1\n",
        "import pandas as pd\n",
        "import numpy as np\n",
        "\n",
        "df1 = barrios\n",
        "\n",
        "df2 = df1\n",
        "condicion = df1.comuna.isin([3])\n",
        "df2 = df2[condicion]\n",
        "print(df2[{'barrio', \"area\", \"perimetro\"}])\n"
      ]
    },
    {
      "cell_type": "code",
      "source": [
        "#Punto 2\n",
        "df3 = df1\n",
        "condicion2 = (df1.comuna <= 10) & (df1.comuna >= 4)\n",
        "df3 = df3[condicion2]\n",
        "print(df3[{'barrio', \"area\", \"perimetro\"}])"
      ],
      "metadata": {
        "colab": {
          "base_uri": "https://localhost:8080/"
        },
        "id": "pnpVkHAja1Em",
        "outputId": "fb8ad721-6790-4505-bbae-a24be46b0c56"
      },
      "execution_count": 3,
      "outputs": [
        {
          "output_type": "stream",
          "name": "stdout",
          "text": [
            "            area     perimetro             barrio\n",
            "4   4.050752e+06   8537.901368            ALMAGRO\n",
            "5   6.851029e+06  10990.964471          CABALLITO\n",
            "7   2.627481e+06   7361.036418       MONTE CASTRO\n",
            "8   1.334146e+06   5070.965652         VILLA REAL\n",
            "9   8.590784e+06  15772.439510             FLORES\n",
            "10  2.320641e+06   7519.654092           FLORESTA\n",
            "13  2.609851e+06   6602.510266              BOEDO\n",
            "14  2.400518e+06   7045.578332    VELEZ SARSFIELD\n",
            "15  2.566937e+06   8652.930031         VILLA LURO\n",
            "16  3.743440e+06   7878.434993   PARQUE PATRICIOS\n",
            "17  7.398179e+06  11124.635792          MATADEROS\n",
            "18  9.296142e+06  15057.468389       VILLA LUGANO\n",
            "29  7.953453e+06  12789.791771           BARRACAS\n",
            "30  4.732708e+06  10165.614028  PARQUE AVELLANEDA\n",
            "31  3.832117e+06   8406.914321   PARQUE CHACABUCO\n",
            "32  4.951511e+06  11033.510302      NUEVA POMPEYA\n",
            "34  4.232596e+06  10596.826739    VILLA RIACHUELO\n",
            "35  8.688164e+06  12441.695877      VILLA SOLDATI\n",
            "38  4.374419e+06   9256.927321            LINIERS\n",
            "39  1.406834e+06   5650.466286          VERSALLES\n",
            "47  5.036240e+06  20060.003939               BOCA\n"
          ]
        }
      ]
    },
    {
      "cell_type": "code",
      "source": [
        "#Punto 3\n",
        "df4 = df1\n",
        "print(df4[{\"perimetro\", \"area\", \"barrio\"}].iloc[5])"
      ],
      "metadata": {
        "colab": {
          "base_uri": "https://localhost:8080/"
        },
        "id": "t0XR8K3GfOuT",
        "outputId": "42ce10b5-4f4e-488a-e3fb-96fcc1c6af03"
      },
      "execution_count": 4,
      "outputs": [
        {
          "output_type": "stream",
          "name": "stdout",
          "text": [
            "area         6851028.91357\n",
            "perimetro     10990.964471\n",
            "barrio           CABALLITO\n",
            "Name: 5, dtype: object\n"
          ]
        }
      ]
    },
    {
      "cell_type": "code",
      "source": [
        "#Punto 4\n",
        "df7 = barrios\n",
        "valorNan = np.nan\n",
        "\n",
        "def ver_barrio(valor):\n",
        "  valor = str(valor)  \n",
        "  if valor[0] == \"V\":\n",
        "    return valor\n",
        "  return None\n",
        "\n",
        "df7[\"barrio\"]= df7[\"barrio\"].apply(ver_barrio)\n",
        "df7 = df7.dropna()\n",
        "print(df7[\"barrio\"].index)"
      ],
      "metadata": {
        "colab": {
          "base_uri": "https://localhost:8080/"
        },
        "id": "0Cw39vh7hhw6",
        "outputId": "12eee37c-58f7-4f94-a0c4-eb991abe3432"
      },
      "execution_count": 5,
      "outputs": [
        {
          "output_type": "stream",
          "name": "stdout",
          "text": [
            "Int64Index([2, 3, 6, 8, 14, 15, 18, 22, 25, 28, 34, 35, 36, 37, 39], dtype='int64')\n"
          ]
        }
      ]
    },
    {
      "cell_type": "code",
      "source": [
        "#Punto 5\n",
        "df8 = barrios\n",
        "valorNan = np.nan\n",
        "\n",
        "def ver_barrio(valor):\n",
        "  valor = str(valor)\n",
        "  for letra in valor:  \n",
        "    if letra == \"A\":\n",
        "      return valor\n",
        "  return None\n",
        "\n",
        "df8[\"barrio\"]= df8[\"barrio\"].apply(ver_barrio)\n",
        "df8 = df8.dropna()\n",
        "print(df8[\"area\"])"
      ],
      "metadata": {
        "colab": {
          "base_uri": "https://localhost:8080/"
        },
        "id": "JKZ3IB420lUl",
        "outputId": "2609528f-11e4-4f9d-be09-21ac75a18d48"
      },
      "execution_count": 6,
      "outputs": [
        {
          "output_type": "stream",
          "name": "stdout",
          "text": [
            "2     3.615978e+06\n",
            "3     3.399596e+06\n",
            "6     2.153691e+06\n",
            "8     1.334146e+06\n",
            "14    2.400518e+06\n",
            "15    2.566937e+06\n",
            "18    9.296142e+06\n",
            "22    5.449059e+06\n",
            "25    2.162275e+06\n",
            "28    1.853802e+06\n",
            "34    4.232596e+06\n",
            "35    8.688164e+06\n",
            "36    3.303240e+06\n",
            "37    6.404481e+06\n",
            "39    1.406834e+06\n",
            "Name: area, dtype: float64\n"
          ]
        }
      ]
    },
    {
      "cell_type": "code",
      "source": [
        "#Punto 6\n",
        "df4 = df1\n",
        "print(df4[{\"perimetro\"}].iloc[15])"
      ],
      "metadata": {
        "colab": {
          "base_uri": "https://localhost:8080/"
        },
        "id": "3hMavA3_2-2Q",
        "outputId": "e622a72b-43b1-48df-ac4d-3cae2030024e"
      },
      "execution_count": 7,
      "outputs": [
        {
          "output_type": "stream",
          "name": "stdout",
          "text": [
            "perimetro    8652.930031\n",
            "Name: 15, dtype: float64\n"
          ]
        }
      ]
    },
    {
      "cell_type": "code",
      "source": [
        "#Punto 7\n",
        "df4 = df1\n",
        "print(df4[{\"area\"}].iloc[7])"
      ],
      "metadata": {
        "colab": {
          "base_uri": "https://localhost:8080/"
        },
        "id": "oCK6uiR-3VGV",
        "outputId": "8ac48960-eb75-4707-9297-c2814d2447b2"
      },
      "execution_count": 8,
      "outputs": [
        {
          "output_type": "stream",
          "name": "stdout",
          "text": [
            "area    2.627481e+06\n",
            "Name: 7, dtype: float64\n"
          ]
        }
      ]
    },
    {
      "cell_type": "code",
      "source": [
        "#Punto 8\n",
        "import numpy as np\n",
        "df9 = casos\n",
        "df9b = barrios\n",
        "\n",
        "condicionCasos = (df9.numero_de_caso < 7000000) & (df9.numero_de_caso > 6000000)\n",
        "df9 = df9[condicionCasos]\n",
        "array = []\n",
        "\n",
        "\n",
        "def barriosSeleccionados(value):\n",
        "  if value not in array:\n",
        "    return np.nan\n",
        "  return value\n",
        "  \n",
        "array = df9[\"barrio\"].to_numpy()\n",
        "\n",
        "df9b[\"barrio\"] = df9b[\"barrio\"].apply(barriosSeleccionados)\n",
        "\n",
        "df9b = df9b.dropna()\n",
        "\n",
        "print(df9b[{\"barrio\", \"comuna\"}])"
      ],
      "metadata": {
        "id": "RgkEzAGUdysZ",
        "colab": {
          "base_uri": "https://localhost:8080/"
        },
        "outputId": "97c7ff55-843a-4f51-f47b-147b786673f4"
      },
      "execution_count": 9,
      "outputs": [
        {
          "output_type": "stream",
          "name": "stdout",
          "text": [
            "    comuna         barrio\n",
            "22      12  VILLA URQUIZA\n",
            "28      15  VILLA ORTUZAR\n"
          ]
        }
      ]
    },
    {
      "cell_type": "code",
      "source": [
        "#Punto 9\n",
        "df10b = pd.read_csv(\"sample_data/barrios.csv\")\n",
        "df10c = casos\n",
        "df10b = df10b.iloc[2]\n",
        "barrio = df10b[\"barrio\"]\n",
        "\n",
        "condicionBarrio3 = df10c.barrio == barrio\n",
        "df10c = df10c[condicionBarrio3]\n",
        "\n",
        "\n",
        "print(df10c[{\"genero\", \"edad\"}])"
      ],
      "metadata": {
        "colab": {
          "base_uri": "https://localhost:8080/"
        },
        "id": "Gl29bpRhyvLL",
        "outputId": "764fad54-3ebb-47fc-dbdd-2ab2dbe64fb1"
      },
      "execution_count": 18,
      "outputs": [
        {
          "output_type": "stream",
          "name": "stdout",
          "text": [
            "     edad     genero\n",
            "19     68  masculino\n",
            "49     25  masculino\n",
            "160    58  masculino\n",
            "167    35   femenino\n",
            "208    34  masculino\n",
            "230    69  masculino\n",
            "231    45  masculino\n",
            "240    77  masculino\n",
            "264    43  masculino\n",
            "266    38   femenino\n",
            "435    42   femenino\n",
            "446    72  masculino\n"
          ]
        }
      ]
    },
    {
      "cell_type": "code",
      "source": [
        "#Punto 10\n",
        "df11b = pd.read_csv(\"sample_data/barrios.csv\")\n",
        "df11c = pd.read_csv(\"sample_data/casos.csv\")\n",
        "\n",
        "condicionCasosInvestigar = df11c.tipo_contagio == \"En Investigación\"\n",
        "\n",
        "df11c = df11c[condicionCasosInvestigar]\n",
        "\n",
        "def getBarriosInvestigados(value):\n",
        "  if value not in array2:\n",
        "    return np.nan\n",
        "  return value\n",
        "\n",
        "array2 = df11c[\"barrio\"].to_numpy()\n",
        "\n",
        "df11b[\"barrio\"] = df11b[\"barrio\"].apply(getBarriosInvestigados)\n",
        "\n",
        "df11b = df11b.dropna()\n",
        "\n",
        "print(df11b[\"barrio\"])"
      ],
      "metadata": {
        "colab": {
          "base_uri": "https://localhost:8080/"
        },
        "id": "pBcTjxh96u6D",
        "outputId": "6199b335-50cc-4a66-d9fb-1a86950f197f"
      },
      "execution_count": 21,
      "outputs": [
        {
          "output_type": "stream",
          "name": "stdout",
          "text": [
            "0             CHACARITA\n",
            "7          MONTE CASTRO\n",
            "9                FLORES\n",
            "11         CONSTITUCION\n",
            "13                BOEDO\n",
            "14      VELEZ SARSFIELD\n",
            "17            MATADEROS\n",
            "18         VILLA LUGANO\n",
            "19            SAN TELMO\n",
            "20             SAAVEDRA\n",
            "24            BALVANERA\n",
            "25    VILLA GRAL. MITRE\n",
            "29             BARRACAS\n",
            "30    PARQUE AVELLANEDA\n",
            "31     PARQUE CHACABUCO\n",
            "33              PALERMO\n",
            "35        VILLA SOLDATI\n",
            "41            MONSERRAT\n",
            "44             RECOLETA\n",
            "46                NUÑEZ\n",
            "Name: barrio, dtype: object\n"
          ]
        }
      ]
    },
    {
      "cell_type": "code",
      "source": [
        "#Punto 11\n",
        "df12b = pd.read_csv(\"sample_data/barrios.csv\")\n",
        "df11c = pd.read_csv(\"sample_data/casos.csv\")\n",
        "menores = df11c.edad < 18\n",
        "\n",
        "df11c = df11c[menores]\n",
        "\n",
        "\n",
        "def getBarriosInvestigados(value):\n",
        "  if value not in array2:\n",
        "    return np.nan\n",
        "  return value\n",
        "\n",
        "array2 = df11c[\"barrio\"].to_numpy()\n",
        "\n",
        "df11b[\"barrio\"] = df11b[\"barrio\"].apply(getBarriosInvestigados)\n",
        "\n",
        "df11b = df11b.dropna()\n",
        "\n",
        "print(df11b[\"barrio\"])"
      ],
      "metadata": {
        "colab": {
          "base_uri": "https://localhost:8080/"
        },
        "id": "99ceP4UshjpO",
        "outputId": "93ff44a9-f433-480e-ca99-a78b7464eb80"
      },
      "execution_count": 24,
      "outputs": [
        {
          "output_type": "stream",
          "name": "stdout",
          "text": [
            "0        CHACARITA\n",
            "9           FLORES\n",
            "17       MATADEROS\n",
            "18    VILLA LUGANO\n",
            "44        RECOLETA\n",
            "Name: barrio, dtype: object\n"
          ]
        }
      ]
    },
    {
      "cell_type": "code",
      "source": [
        "#Punto 12\n",
        "df13b = pd.read_csv(\"sample_data/barrios.csv\")\n",
        "df13c = pd.read_csv(\"sample_data/casos.csv\")\n",
        "df13c = df13c[df13c[\"barrio\"].notna()]\n",
        "\n",
        "mayores4 = df13b.index < 4\n",
        "\n",
        "df13b = df13b[mayores4]\n",
        "barrios = df13b[\"barrio\"].to_numpy()\n",
        "\n",
        "df13c = df13c[df13c[\"barrio\"].isin(barrios)]\n",
        "\n",
        "print(df13c[{\"numero_de_caso\", \"genero\", \"edad\"}])"
      ],
      "metadata": {
        "colab": {
          "base_uri": "https://localhost:8080/"
        },
        "id": "BILBO_j4spPz",
        "outputId": "e66e4dcd-a25a-4b16-e216-646a2597861a"
      },
      "execution_count": 73,
      "outputs": [
        {
          "output_type": "stream",
          "name": "stdout",
          "text": [
            "     edad  numero_de_caso     genero\n",
            "7      29         7673498  masculino\n",
            "19     68         7673629  masculino\n",
            "49     25         7692683  masculino\n",
            "99     18         7718539  masculino\n",
            "150    30         7721916  masculino\n",
            "154    31         7722007  masculino\n",
            "160    58         7725230  masculino\n",
            "161    33         7725232  masculino\n",
            "167    35         7726081   femenino\n",
            "208    34         7735475  masculino\n",
            "230    69         7736770  masculino\n",
            "231    45         7736847  masculino\n",
            "240    77         7736991  masculino\n",
            "264    43         7717778  masculino\n",
            "266    38         7717796   femenino\n",
            "280    63         7718104  masculino\n",
            "346    58         9690247   femenino\n",
            "354    52        10487114  masculino\n",
            "379    40         8367848   femenino\n",
            "413    56         6270671  masculino\n",
            "435    42        15519416   femenino\n",
            "437    27         1629445   femenino\n",
            "446    72         5018271  masculino\n",
            "451    72         5362506  masculino\n",
            "459    25         5321867   femenino\n",
            "509    41         7721664   femenino\n",
            "566    21         4888070   femenino\n",
            "569     7         4927681   femenino\n"
          ]
        }
      ]
    },
    {
      "cell_type": "code",
      "source": [
        "#Punto 13\n",
        "df14c = pd.read_csv(\"sample_data/casos.csv\")\n",
        "\n",
        "df14c = df14c[df14c[\"comuna\"].notna()]\n",
        "\n",
        "df13c = df13c[df13c[\"comuna\"] != 13]\n",
        "\n",
        "\n",
        "print(df13c[{\"numero_de_caso\", \"genero\", \"edad\"}])"
      ],
      "metadata": {
        "colab": {
          "base_uri": "https://localhost:8080/"
        },
        "id": "N8vsLecSEvNN",
        "outputId": "6860580c-2125-47d5-f518-9c4a79a98942"
      },
      "execution_count": 71,
      "outputs": [
        {
          "output_type": "stream",
          "name": "stdout",
          "text": [
            "     edad  numero_de_caso     genero\n",
            "7      29         7673498  masculino\n",
            "19     68         7673629  masculino\n",
            "49     25         7692683  masculino\n",
            "99     18         7718539  masculino\n",
            "150    30         7721916  masculino\n",
            "154    31         7722007  masculino\n",
            "160    58         7725230  masculino\n",
            "161    33         7725232  masculino\n",
            "167    35         7726081   femenino\n",
            "208    34         7735475  masculino\n",
            "230    69         7736770  masculino\n",
            "231    45         7736847  masculino\n",
            "240    77         7736991  masculino\n",
            "264    43         7717778  masculino\n",
            "266    38         7717796   femenino\n",
            "280    63         7718104  masculino\n",
            "346    58         9690247   femenino\n",
            "354    52        10487114  masculino\n",
            "379    40         8367848   femenino\n",
            "413    56         6270671  masculino\n",
            "435    42        15519416   femenino\n",
            "437    27         1629445   femenino\n",
            "446    72         5018271  masculino\n",
            "451    72         5362506  masculino\n",
            "459    25         5321867   femenino\n",
            "509    41         7721664   femenino\n",
            "566    21         4888070   femenino\n",
            "569     7         4927681   femenino\n"
          ]
        }
      ]
    }
  ]
}