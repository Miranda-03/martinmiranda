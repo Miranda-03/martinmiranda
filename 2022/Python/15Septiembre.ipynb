{
  "nbformat": 4,
  "nbformat_minor": 0,
  "metadata": {
    "colab": {
      "provenance": [],
      "collapsed_sections": []
    },
    "kernelspec": {
      "name": "python3",
      "display_name": "Python 3"
    },
    "language_info": {
      "name": "python"
    }
  },
  "cells": [
    {
      "cell_type": "code",
      "execution_count": 20,
      "metadata": {
        "id": "f2H_Bj7w9-WA",
        "colab": {
          "base_uri": "https://localhost:8080/"
        },
        "outputId": "dd8190cf-4f8e-4e3d-91fb-5ab49fb5c693"
      },
      "outputs": [
        {
          "output_type": "stream",
          "name": "stdout",
          "text": [
            "sample_data/fotos/*.jpeg\n",
            "{'identificador': [1, 2, 3, 4, 5, 6, 7, 8, 9, 10, 11, 12, 13, 14, 15, 16, 17, 18, 19, 20, 21, 22, 23, 24, 25, 26, 27, 28, 29, 30, 31, 32, 33, 34, 35, 36, 37, 38, 39, 40, 41, 42, 43, 44, 45, 46, 47, 48, 49, 50, 51, 52, 53, 54, 55, 56, 57, 58, 59, 60, 61, 62, 63, 64, 65, 66, 67, 68, 69, 70, 71, 72, 73, 74, 75, 76, 77, 78, 79, 80, 81, 82, 83, 84, 85, 86, 87, 88, 89, 90, 91, 92, 93, 94, 95, 96, 97, 98, 99, 100], 'nombre': ['foto_rostros_1.jpeg', 'foto_rostros_2.jpeg', 'foto_rostros_3.jpeg', 'foto_rostros_4.jpeg', 'foto_rostros_5.jpeg', 'foto_rostros_6.jpeg', 'foto_rostros_7.jpeg', 'foto_rostros_8.jpeg', 'foto_rostros_9.jpeg', 'foto_rostros_10.jpeg', 'foto_rostros_11.jpeg', 'foto_rostros_12.jpeg', 'foto_rostros_13.jpeg', 'foto_rostros_14.jpeg', 'foto_rostros_15.jpeg', 'foto_rostros_16.jpeg', 'foto_rostros_17.jpeg', 'foto_rostros_18.jpeg', 'foto_rostros_19.jpeg', 'foto_rostros_20.jpeg', 'foto_rostros_21.jpeg', 'foto_rostros_22.jpeg', 'foto_rostros_23.jpeg', 'foto_rostros_24.jpeg', 'foto_rostros_25.jpeg', 'foto_rostros_26.jpeg', 'foto_rostros_27.jpeg', 'foto_rostros_28.jpeg', 'foto_rostros_29.jpeg', 'foto_rostros_30.jpeg', 'foto_rostros_31.jpeg', 'foto_rostros_32.jpeg', 'foto_rostros_33.jpeg', 'foto_rostros_34.jpeg', 'foto_rostros_35.jpeg', 'foto_rostros_36.jpeg', 'foto_rostros_37.jpeg', 'foto_rostros_38.jpeg', 'foto_rostros_39.jpeg', 'foto_rostros_40.jpeg', 'foto_rostros_41.jpeg', 'foto_rostros_42.jpeg', 'foto_rostros_43.jpeg', 'foto_rostros_44.jpeg', 'foto_rostros_45.jpeg', 'foto_rostros_46.jpeg', 'foto_rostros_47.jpeg', 'foto_rostros_48.jpeg', 'foto_rostros_49.jpeg', 'foto_rostros_50.jpeg', 'foto_rostros_51.jpeg', 'foto_rostros_52.jpeg', 'foto_rostros_53.jpeg', 'foto_rostros_54.jpeg', 'foto_rostros_55.jpeg', 'foto_rostros_56.jpeg', 'foto_rostros_57.jpeg', 'foto_rostros_58.jpeg', 'foto_rostros_59.jpeg', 'foto_rostros_60.jpeg', 'foto_rostros_61.jpeg', 'foto_rostros_62.jpeg', 'foto_rostros_63.jpeg', 'foto_rostros_64.jpeg', 'foto_rostros_65.jpeg', 'foto_rostros_66.jpeg', 'foto_rostros_67.jpeg', 'foto_rostros_68.jpeg', 'foto_rostros_69.jpeg', 'foto_rostros_70.jpeg', 'foto_rostros_71.jpeg', 'foto_rostros_72.jpeg', 'foto_rostros_73.jpeg', 'foto_rostros_74.jpeg', 'foto_rostros_75.jpeg', 'foto_rostros_76.jpeg', 'foto_rostros_77.jpeg', 'foto_rostros_78.jpeg', 'foto_rostros_79.jpeg', 'foto_rostros_80.jpeg', 'foto_rostros_81.jpeg', 'foto_rostros_82.jpeg', 'foto_rostros_83.jpeg', 'foto_rostros_84.jpeg', 'foto_rostros_85.jpeg', 'foto_rostros_86.jpeg', 'foto_rostros_87.jpeg', 'foto_rostros_88.jpeg', 'foto_rostros_89.jpeg', 'foto_rostros_90.jpeg', 'foto_rostros_91.jpeg', 'foto_rostros_92.jpeg', 'foto_rostros_93.jpeg', 'foto_rostros_94.jpeg', 'foto_rostros_95.jpeg', 'foto_rostros_96.jpeg', 'foto_rostros_97.jpeg', 'foto_rostros_98.jpeg', 'foto_rostros_99.jpeg', 'foto_rostros_100.jpeg'], 'cantidad_rostros': [1, 1, 3, 4, 1, 1, 2, 1, 1, 1, 1, 1, 1, 2, 1, 1, 1, 1, 2, 2, 1, 1, 2, 1, 1, 1, 3, 5, 1, 1, 1, 0, 6, 1, 1, 1, 0, 1, 0, 1, 0, 1, 1, 1, 3, 0, 2, 1, 1, 1, 1, 5, 1, 1, 1, 1, 1, 1, 1, 1, 1, 2, 3, 1, 1, 1, 1, 2, 1, 2, 1, 1, 1, 1, 0, 1, 1, 1, 1, 1, 1, 1, 1, 1, 0, 0, 1, 1, 1, 1, 1, 1, 5, 1, 1, 1, 1, 1, 1, 3]}\n",
            "-----------------------------------------------------------------------------\n",
            "{'identificador': ['1', '2', '3', '3', '3', '4', '4', '4', '4', '5', '6', '7', '7', '8', '9', '10', '11', '12', '13', '14', '14', '15', '16', '17', '18', '19', '19', '20', '20', '21', '22', '23', '23', '24', '25', '26', '27', '27', '27', '28', '28', '28', '28', '28', '29', '30', '31', '33', '33', '33', '33', '33', '33', '34', '35', '36', '38', '40', '42', '43', '44', '45', '45', '45', '47', '47', '48', '49', '50', '51', '52', '52', '52', '52', '52', '53', '54', '55', '56', '57', '58', '59', '60', '61', '62', '62', '63', '63', '63', '64', '65', '66', '67', '68', '68', '69', '70', '70', '71', '72', '73', '74', '76', '77', '78', '79', '80', '81', '82', '83', '84', '87', '88', '89', '90', '91', '92', '93', '93', '93', '93', '93', '94', '95', '96', '97', '98', '99', '100', '100', '100'], 'nombre_rostro': ['rostro_1.jpg', 'rostro_2.jpg', 'rostro_3.jpg', 'rostro_3.jpg', 'rostro_3.jpg', 'rostro_4.jpg', 'rostro_4.jpg', 'rostro_4.jpg', 'rostro_4.jpg', 'rostro_5.jpg', 'rostro_6.jpg', 'rostro_7.jpg', 'rostro_7.jpg', 'rostro_8.jpg', 'rostro_9.jpg', 'rostro_10.jpg', 'rostro_11.jpg', 'rostro_12.jpg', 'rostro_13.jpg', 'rostro_14.jpg', 'rostro_14.jpg', 'rostro_15.jpg', 'rostro_16.jpg', 'rostro_17.jpg', 'rostro_18.jpg', 'rostro_19.jpg', 'rostro_19.jpg', 'rostro_20.jpg', 'rostro_20.jpg', 'rostro_21.jpg', 'rostro_22.jpg', 'rostro_23.jpg', 'rostro_23.jpg', 'rostro_24.jpg', 'rostro_25.jpg', 'rostro_26.jpg', 'rostro_27.jpg', 'rostro_27.jpg', 'rostro_27.jpg', 'rostro_28.jpg', 'rostro_28.jpg', 'rostro_28.jpg', 'rostro_28.jpg', 'rostro_28.jpg', 'rostro_29.jpg', 'rostro_30.jpg', 'rostro_31.jpg', 'rostro_33.jpg', 'rostro_33.jpg', 'rostro_33.jpg', 'rostro_33.jpg', 'rostro_33.jpg', 'rostro_33.jpg', 'rostro_34.jpg', 'rostro_35.jpg', 'rostro_36.jpg', 'rostro_38.jpg', 'rostro_40.jpg', 'rostro_42.jpg', 'rostro_43.jpg', 'rostro_44.jpg', 'rostro_45.jpg', 'rostro_45.jpg', 'rostro_45.jpg', 'rostro_47.jpg', 'rostro_47.jpg', 'rostro_48.jpg', 'rostro_49.jpg', 'rostro_50.jpg', 'rostro_51.jpg', 'rostro_52.jpg', 'rostro_52.jpg', 'rostro_52.jpg', 'rostro_52.jpg', 'rostro_52.jpg', 'rostro_53.jpg', 'rostro_54.jpg', 'rostro_55.jpg', 'rostro_56.jpg', 'rostro_57.jpg', 'rostro_58.jpg', 'rostro_59.jpg', 'rostro_60.jpg', 'rostro_61.jpg', 'rostro_62.jpg', 'rostro_62.jpg', 'rostro_63.jpg', 'rostro_63.jpg', 'rostro_63.jpg', 'rostro_64.jpg', 'rostro_65.jpg', 'rostro_66.jpg', 'rostro_67.jpg', 'rostro_68.jpg', 'rostro_68.jpg', 'rostro_69.jpg', 'rostro_70.jpg', 'rostro_70.jpg', 'rostro_71.jpg', 'rostro_72.jpg', 'rostro_73.jpg', 'rostro_74.jpg', 'rostro_76.jpg', 'rostro_77.jpg', 'rostro_78.jpg', 'rostro_79.jpg', 'rostro_80.jpg', 'rostro_81.jpg', 'rostro_82.jpg', 'rostro_83.jpg', 'rostro_84.jpg', 'rostro_87.jpg', 'rostro_88.jpg', 'rostro_89.jpg', 'rostro_90.jpg', 'rostro_91.jpg', 'rostro_92.jpg', 'rostro_93.jpg', 'rostro_93.jpg', 'rostro_93.jpg', 'rostro_93.jpg', 'rostro_93.jpg', 'rostro_94.jpg', 'rostro_95.jpg', 'rostro_96.jpg', 'rostro_97.jpg', 'rostro_98.jpg', 'rostro_99.jpg', 'rostro_100.jpg', 'rostro_100.jpg', 'rostro_100.jpg'], 'posicion': ['114, 27', '137, 20', '101, 50', '42, 51', '174, 43', '40, 29', '156, 35', '217, 32', '92, 51', '82, 36', '56, 22', '149, 30', '72, 28', '114, 23', '119, 28', '138, 23', '69, 20', '68, 36', '156, 1', '23, 46', '32, 98', '116, 32', '142, 37', '144, 34', '129, 13', '44, 18', '110, 23', '165, 36', '75, 17', '120, 23', '88, 16', '26, 10', '95, 36', '100, 23', '62, 59', '14, 49', '171, 49', '44, 56', '100, 58', '168, 31', '64, 35', '214, 36', '123, 46', '9, 53', '118, 30', '93, 38', '47, 29', '103, 27', '165, 19', '40, 32', '144, 85', '10, 98', '87, 102', '86, 23', '141, 27', '140, 18', '126, 27', '77, 37', '37, 45', '68, 36', '105, 16', '185, 32', '15, 62', '108, 64', '32, 41', '53, 175', '125, 46', '114, 34', '89, 39', '101, 28', '98, 24', '197, 33', '144, 37', '57, 54', '187, 89', '119, 21', '73, 61', '109, 41', '90, 24', '80, 33', '124, 10', '92, 34', '125, 29', '99, 16', '73, 20', '105, 64', '124, 7', '66, 21', '198, 112', '13, 51', '106, 25', '31, 46', '69, 19', '124, 55', '168, 53', '62, 30', '64, 14', '137, 126', '147, 21', '118, 30', '74, 23', '108, 37', '13, 67', '103, 42', '136, 33', '132, 70', '105, 30', '87, 71', '67, 21', '98, 26', '121, 24', '112, 15', '34, 43', '83, 20', '175, 13', '104, 57', '73, 18', '139, 27', '186, 26', '85, 32', '37, 34', '68, 97', '77, 16', '10, 28', '47, 46', '121, 40', '57, 48', '43, 28', '121, 40', '53, 51', '206, 42']}\n"
          ]
        }
      ],
      "source": [
        "import cv2\n",
        "from pathlib import Path\n",
        "import glob\n",
        "import os\n",
        "import re\n",
        "import pandas as pd\n",
        "\n",
        "home = Path.home()\n",
        "wave_absolute = Path( \"sample_data\", \"fotos\")\n",
        "number_of_files = 0\n",
        "images = []\n",
        "images_path = []\n",
        "primer_csv= {\"identificador\" : [], \"nombre\" : [], \"cantidad_rostros\" : []}\n",
        "segundo_csv = {\"identificador\" :[], \"nombre_rostro\": [], \"posicion\":[]}\n",
        "cdr = cv2.CascadeClassifier(cv2.data.haarcascades + 'haarcascade_frontalface_default.xml')\n",
        "\n",
        "\n",
        "for file in glob.glob(f'{wave_absolute}/*.jpeg'):\n",
        "  number_of_files = number_of_files + 1\n",
        "  primer_csv[\"identificador\"].append(number_of_files)\n",
        "  primer_csv[\"nombre\"].append(f'foto_rostros_{number_of_files}.jpeg')\n",
        "  os.rename(file, f'{wave_absolute}/foto_rostros_{number_of_files}.jpeg')\n",
        "  images_path.append(f'{wave_absolute}/foto_rostros_{number_of_files}.jpeg')\n",
        "\n",
        "for image in images_path:\n",
        "  identificador = re.search(r'(?<=s_)\\w+', image)\n",
        "  image_to_read = cv2.imread(image)\n",
        "  copia = image_to_read.copy()\n",
        "  rostros = cdr.detectMultiScale(image_to_read)\n",
        "  primer_csv[\"cantidad_rostros\"].append(len(rostros))\n",
        "  for (x, y, ancho, alto) in rostros:\n",
        "    segundo_csv[\"identificador\"].append(identificador.group(0))\n",
        "    rostro = copia[y:y+alto, x:x+ancho]\n",
        "    cv2.imwrite(f'{wave_absolute}/rostros/rostros_{identificador.group(0)}.jpg', rostro)\n",
        "    segundo_csv[\"nombre_rostro\"].append(f'rostro_{identificador.group(0)}.jpg')\n",
        "    segundo_csv[\"posicion\"].append(f'{x}, {y}')\n",
        "\n",
        "print(primer_csv)\n",
        "print(\"-----------------------------------------------------------------------------\")\n",
        "print(segundo_csv)\n",
        "\n",
        "\n",
        "dataframe = pd.DataFrame(primer_csv)\n",
        "dataframe2 = pd.DataFrame(segundo_csv)"
      ]
    },
    {
      "cell_type": "code",
      "source": [
        "print(dataframe)\n",
        "print('---------------------------------------------------')\n",
        "print(dataframe2)"
      ],
      "metadata": {
        "colab": {
          "base_uri": "https://localhost:8080/"
        },
        "id": "yoI0P3ODGGdw",
        "outputId": "08f5b481-e437-4b9d-da8b-a108867aeb74"
      },
      "execution_count": 21,
      "outputs": [
        {
          "output_type": "stream",
          "name": "stdout",
          "text": [
            "    identificador                 nombre  cantidad_rostros\n",
            "0               1    foto_rostros_1.jpeg                 1\n",
            "1               2    foto_rostros_2.jpeg                 1\n",
            "2               3    foto_rostros_3.jpeg                 3\n",
            "3               4    foto_rostros_4.jpeg                 4\n",
            "4               5    foto_rostros_5.jpeg                 1\n",
            "..            ...                    ...               ...\n",
            "95             96   foto_rostros_96.jpeg                 1\n",
            "96             97   foto_rostros_97.jpeg                 1\n",
            "97             98   foto_rostros_98.jpeg                 1\n",
            "98             99   foto_rostros_99.jpeg                 1\n",
            "99            100  foto_rostros_100.jpeg                 3\n",
            "\n",
            "[100 rows x 3 columns]\n",
            "---------------------------------------------------\n",
            "    identificador   nombre_rostro posicion\n",
            "0               1    rostro_1.jpg  114, 27\n",
            "1               2    rostro_2.jpg  137, 20\n",
            "2               3    rostro_3.jpg  101, 50\n",
            "3               3    rostro_3.jpg   42, 51\n",
            "4               3    rostro_3.jpg  174, 43\n",
            "..            ...             ...      ...\n",
            "126            98   rostro_98.jpg   57, 48\n",
            "127            99   rostro_99.jpg   43, 28\n",
            "128           100  rostro_100.jpg  121, 40\n",
            "129           100  rostro_100.jpg   53, 51\n",
            "130           100  rostro_100.jpg  206, 42\n",
            "\n",
            "[131 rows x 3 columns]\n"
          ]
        }
      ]
    }
  ]
}